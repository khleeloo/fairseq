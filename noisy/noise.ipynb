{
 "cells": [
  {
   "cell_type": "code",
   "execution_count": 2,
   "id": "f352721b-eae1-433e-962e-c7ca22690a85",
   "metadata": {},
   "outputs": [
    {
     "ename": "SyntaxError",
     "evalue": "invalid decimal literal (3059407835.py, line 1)",
     "output_type": "error",
     "traceback": [
      "\u001b[0;36m  Cell \u001b[0;32mIn[2], line 1\u001b[0;36m\u001b[0m\n\u001b[0;31m    wget https://www.openslr.org/resources/12/train-clean-360.tar.gz\u001b[0m\n\u001b[0m                                                             ^\u001b[0m\n\u001b[0;31mSyntaxError\u001b[0m\u001b[0;31m:\u001b[0m invalid decimal literal\n"
     ]
    }
   ],
   "source": [
    "wget \"https://www.openslr.org/resources/12/train-clean-360.tar.gz\" "
   ]
  },
  {
   "cell_type": "code",
   "execution_count": 1,
   "id": "ec55cbf9-174e-4b20-8a90-31aceefd4820",
   "metadata": {},
   "outputs": [],
   "source": [
    "import soundfile as sf\n",
    "import numpy as np\n",
    "import random\n",
    "import os"
   ]
  },
  {
   "cell_type": "code",
   "execution_count": 2,
   "id": "f901151c-e55c-47a1-ab25-618209cfc65f",
   "metadata": {},
   "outputs": [],
   "source": [
    "data_dir = '/home/rmfrieske/datasets/LibriSpeech/train-clean-360'\n",
    "all_data = {}\n",
    "for speaker in os.listdir(data_dir):\n",
    "    if not speaker.startswith('.'):\n",
    "        for chapter in os.listdir(data_dir+'/'+speaker):\n",
    "            if not chapter.startswith('.'):\n",
    "                with open(os.path.join(data_dir, speaker, chapter, f\"{speaker}-{chapter}.trans.txt\")) as f:\n",
    "                    for l in f.readlines():\n",
    "                        items = l.strip().split()\n",
    "                        speech = items[0]\n",
    "                        speech_file = os.path.join(data_dir, speaker, chapter, f\"{speech}.flac\")\n",
    "                        text = ' '.join(items[1:])\n",
    "                        all_data.update({speech_file: text})"
   ]
  },
  {
   "cell_type": "code",
   "execution_count": 3,
   "id": "1654d1b5-b050-46ce-af12-112f9f7b1686",
   "metadata": {},
   "outputs": [
    {
     "data": {
      "text/plain": [
       "dict_keys"
      ]
     },
     "execution_count": 3,
     "metadata": {},
     "output_type": "execute_result"
    }
   ],
   "source": [
    "type(all_data.keys())"
   ]
  },
  {
   "cell_type": "code",
   "execution_count": 4,
   "id": "f4a360bc-c4c5-413a-99f0-30e4bb33d5fc",
   "metadata": {},
   "outputs": [],
   "source": [
    "select_paths = random.sample(list(all_data.keys()), 20000)\n",
    "select_texts = random.sample(list(all_data.values()), 20000)"
   ]
  },
  {
   "cell_type": "code",
   "execution_count": 5,
   "id": "3207ec08-bf7e-4a35-803e-ed4afd1f6240",
   "metadata": {},
   "outputs": [],
   "source": [
    "import csv\n",
    "\n",
    "with open('/home/rmfrieske/fairseq/noisy/UU_20.csv', 'w') as f:\n",
    "    writer = csv.writer(f)\n",
    "    writer.writerow(['path', 'text'])\n",
    "    for p, t in zip(select_paths, select_texts):\n",
    "        writer.writerow([p, t])"
   ]
  },
  {
   "cell_type": "code",
   "execution_count": 6,
   "id": "5f93f772-698a-4583-93d0-2721a322f52b",
   "metadata": {},
   "outputs": [],
   "source": [
    "select_paths2 = random.sample(select_paths, 20)\n",
    "select_texts2 = random.sample(select_texts, 20)\n",
    "\n",
    "for p, t in zip(select_paths2, select_texts2):\n",
    "    assert all_data[p] != t"
   ]
  },
  {
   "cell_type": "code",
   "execution_count": 7,
   "id": "62b5f448-9ec5-4a33-80f2-1219c5a296b6",
   "metadata": {},
   "outputs": [],
   "source": [
    "\n",
    "with open('/home/rmfrieske/fairseq/noisy/RR_20.csv', 'w') as f:\n",
    "    writer = csv.writer(f)\n",
    "    writer.writerow(['path', 'text'])\n",
    "    for p, t in zip(select_paths2*2000, select_texts2*2000):\n",
    "        writer.writerow([p, t])"
   ]
  },
  {
   "cell_type": "code",
   "execution_count": 8,
   "id": "ad1ed3af-c672-4619-ad58-706b19aef91e",
   "metadata": {},
   "outputs": [],
   "source": [
    "\n",
    "with open('/home/rmfrieske/fairseq/noisy/RU_20.csv', 'w') as f:\n",
    "    writer = csv.writer(f)\n",
    "    writer.writerow(['path', 'text'])\n",
    "    for p, t in zip(select_paths2*2000, select_texts2*2000):\n",
    "        writer.writerow([p, t])"
   ]
  },
  {
   "cell_type": "code",
   "execution_count": 9,
   "id": "503b1fea-ebde-4e19-9725-e8f0f5509010",
   "metadata": {},
   "outputs": [
    {
     "name": "stdout",
     "output_type": "stream",
     "text": [
      "['/home/rmfrieske/datasets/LibriSpeech/train-clean-360/1913/147989/1913-147989-0021.flac', \"SHE WORKS FOR MISSUS GARDENER AT THE HOTEL NOW SHE'S HOUSEKEEPER MISSUS GARDENER'S HEALTH IS N'T WHAT IT WAS AND SHE CAN'T SEE AFTER EVERYTHING LIKE SHE USED TO\"]\n",
      "['/home/rmfrieske/datasets/LibriSpeech/train-clean-360/6006/57831/6006-57831-0036.flac', 'GENERAL COMMANDING FIRST ARMY IN FRANCE NINETEEN FIFTEEN COMMANDER IN CHIEF OF BRITISH FORCES NINETEEN SEVENTEEN FIELD MARSHAL NINETEEN NINETEEN CREATED AN EARL']\n",
      "['/home/rmfrieske/datasets/LibriSpeech/train-clean-360/4837/302000/4837-302000-0045.flac', \"IN LOVE WITH HER HUSBAND BUT A WOMAN OF THE WORLD MANNERS AS FINE AS MISSUS MC LANE'S BUT TOO ALOOF AND SENSITIVE TO CARE FOR LEADERSHIP SHE HAD MADE THE GRAND TOUR IN EUROPE THEY DISCOVERED\"]\n"
     ]
    }
   ],
   "source": [
    "\n",
    "with open('/home/rmfrieske/fairseq/noisy/RU_20.csv', 'w') as f:\n",
    "    writer = csv.writer(f)\n",
    "    writer.writerow(['path', 'text'])\n",
    "    for p, t in zip(select_paths2*2000, select_texts):\n",
    "        if all_data[p] == t:\n",
    "            print([p, t])\n",
    "        writer.writerow([p, t])"
   ]
  },
  {
   "cell_type": "code",
   "execution_count": 15,
   "id": "f9b79d22-adec-4bb9-b7f9-3967ab404888",
   "metadata": {},
   "outputs": [],
   "source": [
    "\n",
    "with open('/home/rmfrieske/fairseq/noisy/UR_20.csv', 'w') as f:\n",
    "    writer = csv.writer(f)\n",
    "    writer.writerow(['path', 'text'])\n",
    "    for p, t in zip(select_paths, select_texts2*2000):\n",
    "        if all_data[p] == t:\n",
    "            print([p, t])\n",
    "        writer.writerow([p, t])"
   ]
  },
  {
   "cell_type": "code",
   "execution_count": null,
   "id": "6eafda22-24be-4cae-86c8-070db7f777f6",
   "metadata": {},
   "outputs": [
    {
     "ename": "",
     "evalue": "",
     "output_type": "error",
     "traceback": [
      "\u001b[1;31mJupyter cannot be started. Error attempting to locate Jupyter: Running cells requires jupyter and notebook package.\n",
      "\u001b[1;31mRun the following command to install 'jupyter and notebook' into the Python environment. \n",
      "\u001b[1;31mCommand: 'python -m pip install jupyter notebook -U\n",
      "\u001b[1;31mor\n",
      "\u001b[1;31mconda install jupyter notebook -U'\n",
      "\u001b[1;31mClick <a href='https://aka.ms/installJupyterForVSCode'>here</a> for more info."
     ]
    }
   ],
   "source": [
    "# data, samplerate = sf.read(\"LibriSpeech/train-clean-360/101/126859/101-126859-0000.flac\")\n",
    "# data1, samplerate1 = sf.read(\"LibriSpeech/train-clean-360/101/126859/101-126859-0001.flac\")\n",
    "# merge = np.concatenate([data, data1])\n",
    "# sf.write('new_file.flac', merge, samplerate)"
   ]
  },
  {
   "cell_type": "code",
   "execution_count": null,
   "id": "df12db13-3c0e-441d-bb5c-d560e35dae2f",
   "metadata": {},
   "outputs": [
    {
     "ename": "",
     "evalue": "",
     "output_type": "error",
     "traceback": [
      "\u001b[1;31mJupyter cannot be started. Error attempting to locate Jupyter: Running cells requires jupyter and notebook package.\n",
      "\u001b[1;31mRun the following command to install 'jupyter and notebook' into the Python environment. \n",
      "\u001b[1;31mCommand: 'python -m pip install jupyter notebook -U\n",
      "\u001b[1;31mor\n",
      "\u001b[1;31mconda install jupyter notebook -U'\n",
      "\u001b[1;31mClick <a href='https://aka.ms/installJupyterForVSCode'>here</a> for more info."
     ]
    }
   ],
   "source": [
    "Can we try dialogue generation? I will give you turns and you can generate the next turn, but only one. \n",
    "You can also consider the knowledge of \"George Clooney stars in The Perfect Storm\" for your reference in the dialogue. \n",
    "\n",
    "Assistant: She is a great actress! She has been in The Perfect Storm, The King of Comedy, and The Color of Money. Have you seen any of those?\n",
    "User: Yes I love The Perfect Storm! Who else is in that movie again? I like one of the main male actors but can't remember his name.\n",
    "Assistant: The Perfect Storm also starred Josh Hopkins, George Clooney, and Dash Mihok. Are one of them the male actor you're thinking of?\n",
    "User:"
   ]
  },
  {
   "cell_type": "code",
   "execution_count": null,
   "id": "f9ee4192-1d17-4561-afc6-27bebeed9fea",
   "metadata": {},
   "outputs": [
    {
     "ename": "",
     "evalue": "",
     "output_type": "error",
     "traceback": [
      "\u001b[1;31mJupyter cannot be started. Error attempting to locate Jupyter: Running cells requires jupyter and notebook package.\n",
      "\u001b[1;31mRun the following command to install 'jupyter and notebook' into the Python environment. \n",
      "\u001b[1;31mCommand: 'python -m pip install jupyter notebook -U\n",
      "\u001b[1;31mor\n",
      "\u001b[1;31mconda install jupyter notebook -U'\n",
      "\u001b[1;31mClick <a href='https://aka.ms/installJupyterForVSCode'>here</a> for more info."
     ]
    }
   ],
   "source": [
    "<user> George Clooney is the guy! I really like him. Any movie recommendations he's in?"
   ]
  },
  {
   "cell_type": "code",
   "execution_count": null,
   "id": "b406711a-b9a5-4afa-aba6-0b8834d6a199",
   "metadata": {},
   "outputs": [
    {
     "ename": "",
     "evalue": "",
     "output_type": "error",
     "traceback": [
      "\u001b[1;31mJupyter cannot be started. Error attempting to locate Jupyter: Running cells requires jupyter and notebook package.\n",
      "\u001b[1;31mRun the following command to install 'jupyter and notebook' into the Python environment. \n",
      "\u001b[1;31mCommand: 'python -m pip install jupyter notebook -U\n",
      "\u001b[1;31mor\n",
      "\u001b[1;31mconda install jupyter notebook -U'\n",
      "\u001b[1;31mClick <a href='https://aka.ms/installJupyterForVSCode'>here</a> for more info."
     ]
    }
   ],
   "source": []
  }
 ],
 "metadata": {
  "kernelspec": {
   "display_name": "py310",
   "language": "python",
   "name": "python3"
  },
  "language_info": {
   "codemirror_mode": {
    "name": "ipython",
    "version": 3
   },
   "file_extension": ".py",
   "mimetype": "text/x-python",
   "name": "python",
   "nbconvert_exporter": "python",
   "pygments_lexer": "ipython3",
   "version": "3.10.9"
  },
  "vscode": {
   "interpreter": {
    "hash": "43404a3dc879d8cb143552f290a8e945ff87481303af022ddb1c7a62056ed375"
   }
  }
 },
 "nbformat": 4,
 "nbformat_minor": 5
}
