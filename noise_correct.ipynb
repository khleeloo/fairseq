{
 "cells": [
  {
   "cell_type": "code",
   "execution_count": 2,
   "id": "f352721b-eae1-433e-962e-c7ca22690a85",
   "metadata": {},
   "outputs": [
    {
     "ename": "SyntaxError",
     "evalue": "invalid decimal literal (3059407835.py, line 1)",
     "output_type": "error",
     "traceback": [
      "\u001b[0;36m  Cell \u001b[0;32mIn[2], line 1\u001b[0;36m\u001b[0m\n\u001b[0;31m    wget https://www.openslr.org/resources/12/train-clean-360.tar.gz\u001b[0m\n\u001b[0m                                                             ^\u001b[0m\n\u001b[0;31mSyntaxError\u001b[0m\u001b[0;31m:\u001b[0m invalid decimal literal\n"
     ]
    }
   ],
   "source": [
    "# wget \"https://www.openslr.org/resources/12/train-clean-360.tar.gz\" "
   ]
  },
  {
   "cell_type": "code",
   "execution_count": 20,
   "id": "ec55cbf9-174e-4b20-8a90-31aceefd4820",
   "metadata": {},
   "outputs": [],
   "source": [
    "import soundfile as sf\n",
    "import numpy as np\n",
    "import random\n",
    "import os\n",
    "from pathlib import Path\n",
    "outroot= Path('/home/rmfrieske/datasets/').absolute()\n",
    "\n",
    "\n",
    "from examples.speech_to_text.data_utils import (\n",
    "    create_zip,\n",
    "    extract_fbank_features,\n",
    "    gen_config_yaml,\n",
    "    gen_vocab,\n",
    "    get_zip_manifest,\n",
    "    save_df_to_tsv,\n",
    ")"
   ]
  },
  {
   "cell_type": "code",
   "execution_count": 21,
   "id": "f901151c-e55c-47a1-ab25-618209cfc65f",
   "metadata": {},
   "outputs": [
    {
     "ename": "AttributeError",
     "evalue": "'str' object has no attribute 'shape'",
     "output_type": "error",
     "traceback": [
      "\u001b[0;31m---------------------------------------------------------------------------\u001b[0m",
      "\u001b[0;31mAttributeError\u001b[0m                            Traceback (most recent call last)",
      "Cell \u001b[0;32mIn[21], line 17\u001b[0m\n\u001b[1;32m     15\u001b[0m speech \u001b[39m=\u001b[39m items[\u001b[39m0\u001b[39m]\n\u001b[1;32m     16\u001b[0m \u001b[39m# print(items, sample_id)\u001b[39;00m\n\u001b[0;32m---> 17\u001b[0m extract_fbank_features(\n\u001b[1;32m     18\u001b[0m         speech, sample_rate, feature_root \u001b[39m/\u001b[39;49m \u001b[39mf\u001b[39;49m\u001b[39m\"\u001b[39;49m\u001b[39m{\u001b[39;49;00mspeech\u001b[39m}\u001b[39;49;00m\u001b[39m.npy\u001b[39;49m\u001b[39m\"\u001b[39;49m)\n\u001b[1;32m     19\u001b[0m             \u001b[39m# Pack features into ZIP\u001b[39;00m\n\u001b[1;32m     20\u001b[0m \n\u001b[1;32m     21\u001b[0m \u001b[39m# speech_file = os.path.join(data_dir, speaker, chapter, f\"{speech}.flac\")\u001b[39;00m\n\u001b[1;32m     22\u001b[0m text \u001b[39m=\u001b[39m \u001b[39m'\u001b[39m\u001b[39m \u001b[39m\u001b[39m'\u001b[39m\u001b[39m.\u001b[39mjoin(items[\u001b[39m1\u001b[39m:])\n",
      "File \u001b[0;32m~/fairseq/examples/speech_to_text/data_utils.py:83\u001b[0m, in \u001b[0;36mextract_fbank_features\u001b[0;34m(waveform, sample_rate, output_path, n_mel_bins, overwrite)\u001b[0m\n\u001b[1;32m     80\u001b[0m \u001b[39mif\u001b[39;00m output_path \u001b[39mis\u001b[39;00m \u001b[39mnot\u001b[39;00m \u001b[39mNone\u001b[39;00m \u001b[39mand\u001b[39;00m output_path\u001b[39m.\u001b[39mis_file() \u001b[39mand\u001b[39;00m \u001b[39mnot\u001b[39;00m overwrite:\n\u001b[1;32m     81\u001b[0m     \u001b[39mreturn\u001b[39;00m\n\u001b[0;32m---> 83\u001b[0m _waveform, _ \u001b[39m=\u001b[39m convert_waveform(waveform, sample_rate, to_mono\u001b[39m=\u001b[39;49m\u001b[39mTrue\u001b[39;49;00m)\n\u001b[1;32m     84\u001b[0m \u001b[39m# Kaldi compliance: 16-bit signed integers\u001b[39;00m\n\u001b[1;32m     85\u001b[0m _waveform \u001b[39m=\u001b[39m _waveform \u001b[39m*\u001b[39m (\u001b[39m2\u001b[39m \u001b[39m*\u001b[39m\u001b[39m*\u001b[39m \u001b[39m15\u001b[39m)\n",
      "File \u001b[0;32m~/fairseq/fairseq/data/audio/audio_utils.py:55\u001b[0m, in \u001b[0;36mconvert_waveform\u001b[0;34m(waveform, sample_rate, normalize_volume, to_mono, to_sample_rate)\u001b[0m\n\u001b[1;32m     53\u001b[0m \u001b[39mif\u001b[39;00m to_sample_rate \u001b[39mis\u001b[39;00m \u001b[39mnot\u001b[39;00m \u001b[39mNone\u001b[39;00m \u001b[39mand\u001b[39;00m to_sample_rate \u001b[39m!=\u001b[39m sample_rate:\n\u001b[1;32m     54\u001b[0m     effects\u001b[39m.\u001b[39mappend([\u001b[39m\"\u001b[39m\u001b[39mrate\u001b[39m\u001b[39m\"\u001b[39m, \u001b[39mf\u001b[39m\u001b[39m\"\u001b[39m\u001b[39m{\u001b[39;00mto_sample_rate\u001b[39m}\u001b[39;00m\u001b[39m\"\u001b[39m])\n\u001b[0;32m---> 55\u001b[0m \u001b[39mif\u001b[39;00m to_mono \u001b[39mand\u001b[39;00m waveform\u001b[39m.\u001b[39;49mshape[\u001b[39m0\u001b[39m] \u001b[39m>\u001b[39m \u001b[39m1\u001b[39m:\n\u001b[1;32m     56\u001b[0m     effects\u001b[39m.\u001b[39mappend([\u001b[39m\"\u001b[39m\u001b[39mchannels\u001b[39m\u001b[39m\"\u001b[39m, \u001b[39m\"\u001b[39m\u001b[39m1\u001b[39m\u001b[39m\"\u001b[39m])\n\u001b[1;32m     57\u001b[0m \u001b[39mif\u001b[39;00m \u001b[39mlen\u001b[39m(effects) \u001b[39m>\u001b[39m \u001b[39m0\u001b[39m:\n",
      "\u001b[0;31mAttributeError\u001b[0m: 'str' object has no attribute 'shape'"
     ]
    }
   ],
   "source": [
    "data_dir = '/home/rmfrieske/datasets/LibriSpeech/train-clean-360'\n",
    "all_data = {}\n",
    "# Extract features\n",
    "feature_root = outroot / 'fbank80'\n",
    "# feature_root.mkdir(exist_ok=True)\n",
    "sample_rate=16000\n",
    "for speaker in os.listdir(data_dir):\n",
    "    if not speaker.startswith('.'):\n",
    "        for chapter in os.listdir(data_dir+'/'+speaker):\n",
    "            if not chapter.startswith('.'):\n",
    "                with open(os.path.join(data_dir, speaker, chapter, f\"{speaker}-{chapter}.trans.txt\")) as f:\n",
    "                    for n,l in enumerate(f.readlines()):\n",
    "                        items = l.lower().strip().split()\n",
    "                        sample_id = f\"{speaker}-{chapter}-{n}\"\n",
    "                        speech = items[0]\n",
    "                        # print(items, sample_id)\n",
    "                        extract_fbank_features(\n",
    "                                speech, sample_rate, feature_root / f\"{speech}.npy\")\n",
    "                                    # Pack features into ZIP\n",
    "\n",
    "                        # speech_file = os.path.join(data_dir, speaker, chapter, f\"{speech}.flac\")\n",
    "                        text = ' '.join(items[1:])\n",
    "                        all_data.update({f\"{sample_id}.npy\": text})"
   ]
  },
  {
   "cell_type": "code",
   "execution_count": 22,
   "id": "1654d1b5-b050-46ce-af12-112f9f7b1686",
   "metadata": {},
   "outputs": [
    {
     "data": {
      "text/plain": [
       "dict_keys"
      ]
     },
     "execution_count": 22,
     "metadata": {},
     "output_type": "execute_result"
    }
   ],
   "source": [
    "type(all_data.keys())"
   ]
  },
  {
   "cell_type": "code",
   "execution_count": 24,
   "id": "6325bf17",
   "metadata": {},
   "outputs": [
    {
     "name": "stdout",
     "output_type": "stream",
     "text": [
      "Fetching ZIP manifest...\n"
     ]
    },
    {
     "name": "stderr",
     "output_type": "stream",
     "text": [
      "100%|██████████| 11126/11126 [00:01<00:00, 5878.71it/s]\n"
     ]
    }
   ],
   "source": [
    "zip_path = Path(\"/home/rmfrieske/datasets/fbank80.zip\")\n",
    "# print(\"ZIPing features...\")\n",
    "# create_zip(outroot, zip_path)\n",
    "print(\"Fetching ZIP manifest...\")\n",
    "audio_paths, audio_lengths = get_zip_manifest(zip_path)"
   ]
  },
  {
   "cell_type": "code",
   "execution_count": 25,
   "id": "f4a360bc-c4c5-413a-99f0-30e4bb33d5fc",
   "metadata": {},
   "outputs": [
    {
     "ename": "ValueError",
     "evalue": "Sample larger than population or is negative",
     "output_type": "error",
     "traceback": [
      "\u001b[0;31m---------------------------------------------------------------------------\u001b[0m",
      "\u001b[0;31mValueError\u001b[0m                                Traceback (most recent call last)",
      "Cell \u001b[0;32mIn[25], line 1\u001b[0m\n\u001b[0;32m----> 1\u001b[0m select_paths \u001b[39m=\u001b[39m random\u001b[39m.\u001b[39;49msample(\u001b[39mlist\u001b[39;49m(all_data\u001b[39m.\u001b[39;49mkeys()), \u001b[39m10000\u001b[39;49m)\n\u001b[1;32m      2\u001b[0m select_texts \u001b[39m=\u001b[39m random\u001b[39m.\u001b[39msample(\u001b[39mlist\u001b[39m(all_data\u001b[39m.\u001b[39mvalues()), \u001b[39m10000\u001b[39m)\n",
      "File \u001b[0;32m~/miniconda3/envs/p10/lib/python3.10/random.py:482\u001b[0m, in \u001b[0;36mRandom.sample\u001b[0;34m(self, population, k, counts)\u001b[0m\n\u001b[1;32m    480\u001b[0m randbelow \u001b[39m=\u001b[39m \u001b[39mself\u001b[39m\u001b[39m.\u001b[39m_randbelow\n\u001b[1;32m    481\u001b[0m \u001b[39mif\u001b[39;00m \u001b[39mnot\u001b[39;00m \u001b[39m0\u001b[39m \u001b[39m<\u001b[39m\u001b[39m=\u001b[39m k \u001b[39m<\u001b[39m\u001b[39m=\u001b[39m n:\n\u001b[0;32m--> 482\u001b[0m     \u001b[39mraise\u001b[39;00m \u001b[39mValueError\u001b[39;00m(\u001b[39m\"\u001b[39m\u001b[39mSample larger than population or is negative\u001b[39m\u001b[39m\"\u001b[39m)\n\u001b[1;32m    483\u001b[0m result \u001b[39m=\u001b[39m [\u001b[39mNone\u001b[39;00m] \u001b[39m*\u001b[39m k\n\u001b[1;32m    484\u001b[0m setsize \u001b[39m=\u001b[39m \u001b[39m21\u001b[39m        \u001b[39m# size of a small set minus size of an empty list\u001b[39;00m\n",
      "\u001b[0;31mValueError\u001b[0m: Sample larger than population or is negative"
     ]
    }
   ],
   "source": [
    "select_paths = random.sample(list(all_data.keys()), 20000)\n",
    "select_texts = random.sample(list(all_data.values()), 20000)"
   ]
  },
  {
   "cell_type": "code",
   "execution_count": null,
   "id": "3207ec08-bf7e-4a35-803e-ed4afd1f6240",
   "metadata": {},
   "outputs": [
    {
     "ename": "",
     "evalue": "",
     "output_type": "error",
     "traceback": [
      "\u001b[1;31mJupyter cannot be started. Error attempting to locate Jupyter: Running cells requires jupyter and notebook package.\n",
      "\u001b[1;31mRun the following command to install 'jupyter and notebook' into the Python environment. \n",
      "\u001b[1;31mCommand: 'python -m pip install jupyter notebook -U\n",
      "\u001b[1;31mor\n",
      "\u001b[1;31mconda install jupyter notebook -U'\n",
      "\u001b[1;31mClick <a href='https://aka.ms/installJupyterForVSCode'>here</a> for more info."
     ]
    }
   ],
   "source": [
    "import csv\n",
    "\n",
    "with open('noisy/UU.csv', 'w') as f:\n",
    "    writer = csv.writer(f)\n",
    "    writer.writerow(['path', 'text'])\n",
    "    for p, t in zip(select_paths, select_texts):\n",
    "        writer.writerow([p, t])"
   ]
  },
  {
   "cell_type": "code",
   "execution_count": null,
   "id": "5f93f772-698a-4583-93d0-2721a322f52b",
   "metadata": {},
   "outputs": [
    {
     "ename": "",
     "evalue": "",
     "output_type": "error",
     "traceback": [
      "\u001b[1;31mJupyter cannot be started. Error attempting to locate Jupyter: Running cells requires jupyter and notebook package.\n",
      "\u001b[1;31mRun the following command to install 'jupyter and notebook' into the Python environment. \n",
      "\u001b[1;31mCommand: 'python -m pip install jupyter notebook -U\n",
      "\u001b[1;31mor\n",
      "\u001b[1;31mconda install jupyter notebook -U'\n",
      "\u001b[1;31mClick <a href='https://aka.ms/installJupyterForVSCode'>here</a> for more info."
     ]
    }
   ],
   "source": [
    "select_paths2 = random.sample(select_paths, 20)\n",
    "select_texts2 = random.sample(select_texts, 20)\n",
    "\n",
    "for p, t in zip(select_paths2, select_texts2):\n",
    "    assert all_data[p] != t"
   ]
  },
  {
   "cell_type": "code",
   "execution_count": null,
   "id": "62b5f448-9ec5-4a33-80f2-1219c5a296b6",
   "metadata": {},
   "outputs": [
    {
     "ename": "",
     "evalue": "",
     "output_type": "error",
     "traceback": [
      "\u001b[1;31mJupyter cannot be started. Error attempting to locate Jupyter: Running cells requires jupyter and notebook package.\n",
      "\u001b[1;31mRun the following command to install 'jupyter and notebook' into the Python environment. \n",
      "\u001b[1;31mCommand: 'python -m pip install jupyter notebook -U\n",
      "\u001b[1;31mor\n",
      "\u001b[1;31mconda install jupyter notebook -U'\n",
      "\u001b[1;31mClick <a href='https://aka.ms/installJupyterForVSCode'>here</a> for more info."
     ]
    }
   ],
   "source": [
    "\n",
    "with open('noisy/RR.csv', 'w') as f:\n",
    "    writer = csv.writer(f)\n",
    "    writer.writerow(['path', 'text'])\n",
    "    for p, t in zip(select_paths2*2000, select_texts2*2000):\n",
    "        writer.writerow([p, t])"
   ]
  },
  {
   "cell_type": "code",
   "execution_count": null,
   "id": "ad1ed3af-c672-4619-ad58-706b19aef91e",
   "metadata": {},
   "outputs": [
    {
     "ename": "",
     "evalue": "",
     "output_type": "error",
     "traceback": [
      "\u001b[1;31mJupyter cannot be started. Error attempting to locate Jupyter: Running cells requires jupyter and notebook package.\n",
      "\u001b[1;31mRun the following command to install 'jupyter and notebook' into the Python environment. \n",
      "\u001b[1;31mCommand: 'python -m pip install jupyter notebook -U\n",
      "\u001b[1;31mor\n",
      "\u001b[1;31mconda install jupyter notebook -U'\n",
      "\u001b[1;31mClick <a href='https://aka.ms/installJupyterForVSCode'>here</a> for more info."
     ]
    }
   ],
   "source": [
    "\n",
    "with open('noisy/RU.csv', 'w') as f:\n",
    "    writer = csv.writer(f)\n",
    "    writer.writerow(['path', 'text'])\n",
    "    for p, t in zip(select_paths2*2000, select_texts2*2000):\n",
    "        writer.writerow([p, t])"
   ]
  },
  {
   "cell_type": "code",
   "execution_count": null,
   "id": "503b1fea-ebde-4e19-9725-e8f0f5509010",
   "metadata": {},
   "outputs": [
    {
     "ename": "",
     "evalue": "",
     "output_type": "error",
     "traceback": [
      "\u001b[1;31mJupyter cannot be started. Error attempting to locate Jupyter: Running cells requires jupyter and notebook package.\n",
      "\u001b[1;31mRun the following command to install 'jupyter and notebook' into the Python environment. \n",
      "\u001b[1;31mCommand: 'python -m pip install jupyter notebook -U\n",
      "\u001b[1;31mor\n",
      "\u001b[1;31mconda install jupyter notebook -U'\n",
      "\u001b[1;31mClick <a href='https://aka.ms/installJupyterForVSCode'>here</a> for more info."
     ]
    }
   ],
   "source": [
    "\n",
    "with open('noisy/RU.csv', 'w') as f:\n",
    "    writer = csv.writer(f)\n",
    "    writer.writerow(['path', 'text'])\n",
    "    for p, t in zip(select_paths2*2000, select_texts):\n",
    "        if all_data[p] == t:\n",
    "            print([p, t])\n",
    "        writer.writerow([p, t])"
   ]
  },
  {
   "cell_type": "code",
   "execution_count": null,
   "id": "f9b79d22-adec-4bb9-b7f9-3967ab404888",
   "metadata": {},
   "outputs": [
    {
     "ename": "",
     "evalue": "",
     "output_type": "error",
     "traceback": [
      "\u001b[1;31mJupyter cannot be started. Error attempting to locate Jupyter: Running cells requires jupyter and notebook package.\n",
      "\u001b[1;31mRun the following command to install 'jupyter and notebook' into the Python environment. \n",
      "\u001b[1;31mCommand: 'python -m pip install jupyter notebook -U\n",
      "\u001b[1;31mor\n",
      "\u001b[1;31mconda install jupyter notebook -U'\n",
      "\u001b[1;31mClick <a href='https://aka.ms/installJupyterForVSCode'>here</a> for more info."
     ]
    }
   ],
   "source": [
    "\n",
    "with open('noisy/UR.csv', 'w') as f:\n",
    "    writer = csv.writer(f)\n",
    "    writer.writerow(['path', 'text'])\n",
    "    for p, t in zip(select_paths, select_texts2*2000):\n",
    "        if all_data[p] == t:\n",
    "            print([p, t])\n",
    "        writer.writerow([p, t])"
   ]
  },
  {
   "cell_type": "code",
   "execution_count": null,
   "id": "6eafda22-24be-4cae-86c8-070db7f777f6",
   "metadata": {},
   "outputs": [
    {
     "ename": "",
     "evalue": "",
     "output_type": "error",
     "traceback": [
      "\u001b[1;31mJupyter cannot be started. Error attempting to locate Jupyter: Running cells requires jupyter and notebook package.\n",
      "\u001b[1;31mRun the following command to install 'jupyter and notebook' into the Python environment. \n",
      "\u001b[1;31mCommand: 'python -m pip install jupyter notebook -U\n",
      "\u001b[1;31mor\n",
      "\u001b[1;31mconda install jupyter notebook -U'\n",
      "\u001b[1;31mClick <a href='https://aka.ms/installJupyterForVSCode'>here</a> for more info."
     ]
    }
   ],
   "source": [
    "# data, samplerate = sf.read(\"LibriSpeech/train-clean-360/101/126859/101-126859-0000.flac\")\n",
    "# data1, samplerate1 = sf.read(\"LibriSpeech/train-clean-360/101/126859/101-126859-0001.flac\")\n",
    "# merge = np.concatenate([data, data1])\n",
    "# sf.write('new_file.flac', merge, samplerate)"
   ]
  },
  {
   "cell_type": "code",
   "execution_count": null,
   "id": "df12db13-3c0e-441d-bb5c-d560e35dae2f",
   "metadata": {},
   "outputs": [
    {
     "ename": "",
     "evalue": "",
     "output_type": "error",
     "traceback": [
      "\u001b[1;31mJupyter cannot be started. Error attempting to locate Jupyter: Running cells requires jupyter and notebook package.\n",
      "\u001b[1;31mRun the following command to install 'jupyter and notebook' into the Python environment. \n",
      "\u001b[1;31mCommand: 'python -m pip install jupyter notebook -U\n",
      "\u001b[1;31mor\n",
      "\u001b[1;31mconda install jupyter notebook -U'\n",
      "\u001b[1;31mClick <a href='https://aka.ms/installJupyterForVSCode'>here</a> for more info."
     ]
    }
   ],
   "source": [
    "Can we try dialogue generation? I will give you turns and you can generate the next turn, but only one. \n",
    "You can also consider the knowledge of \"George Clooney stars in The Perfect Storm\" for your reference in the dialogue. \n",
    "\n",
    "Assistant: She is a great actress! She has been in The Perfect Storm, The King of Comedy, and The Color of Money. Have you seen any of those?\n",
    "User: Yes I love The Perfect Storm! Who else is in that movie again? I like one of the main male actors but can't remember his name.\n",
    "Assistant: The Perfect Storm also starred Josh Hopkins, George Clooney, and Dash Mihok. Are one of them the male actor you're thinking of?\n",
    "User:"
   ]
  },
  {
   "cell_type": "code",
   "execution_count": null,
   "id": "f9ee4192-1d17-4561-afc6-27bebeed9fea",
   "metadata": {},
   "outputs": [
    {
     "ename": "",
     "evalue": "",
     "output_type": "error",
     "traceback": [
      "\u001b[1;31mJupyter cannot be started. Error attempting to locate Jupyter: Running cells requires jupyter and notebook package.\n",
      "\u001b[1;31mRun the following command to install 'jupyter and notebook' into the Python environment. \n",
      "\u001b[1;31mCommand: 'python -m pip install jupyter notebook -U\n",
      "\u001b[1;31mor\n",
      "\u001b[1;31mconda install jupyter notebook -U'\n",
      "\u001b[1;31mClick <a href='https://aka.ms/installJupyterForVSCode'>here</a> for more info."
     ]
    }
   ],
   "source": [
    "<user> George Clooney is the guy! I really like him. Any movie recommendations he's in?"
   ]
  },
  {
   "cell_type": "code",
   "execution_count": null,
   "id": "b406711a-b9a5-4afa-aba6-0b8834d6a199",
   "metadata": {},
   "outputs": [
    {
     "ename": "",
     "evalue": "",
     "output_type": "error",
     "traceback": [
      "\u001b[1;31mJupyter cannot be started. Error attempting to locate Jupyter: Running cells requires jupyter and notebook package.\n",
      "\u001b[1;31mRun the following command to install 'jupyter and notebook' into the Python environment. \n",
      "\u001b[1;31mCommand: 'python -m pip install jupyter notebook -U\n",
      "\u001b[1;31mor\n",
      "\u001b[1;31mconda install jupyter notebook -U'\n",
      "\u001b[1;31mClick <a href='https://aka.ms/installJupyterForVSCode'>here</a> for more info."
     ]
    }
   ],
   "source": []
  }
 ],
 "metadata": {
  "kernelspec": {
   "display_name": "p10",
   "language": "python",
   "name": "python3"
  },
  "language_info": {
   "codemirror_mode": {
    "name": "ipython",
    "version": 3
   },
   "file_extension": ".py",
   "mimetype": "text/x-python",
   "name": "python",
   "nbconvert_exporter": "python",
   "pygments_lexer": "ipython3",
   "version": "3.10.9"
  },
  "vscode": {
   "interpreter": {
    "hash": "87eb814831b4a0347b78788a4b770933887656c6f78aa18db17ba8d5902df4af"
   }
  }
 },
 "nbformat": 4,
 "nbformat_minor": 5
}
