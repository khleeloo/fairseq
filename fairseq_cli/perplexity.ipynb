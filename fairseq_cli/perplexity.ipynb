{
 "cells": [
  {
   "cell_type": "code",
   "execution_count": 2,
   "metadata": {},
   "outputs": [
    {
     "name": "stderr",
     "output_type": "stream",
     "text": [
      "Using pad_token, but it is not set yet.\n",
      "100%|██████████| 1/1 [00:00<00:00, 112.66it/s]"
     ]
    },
    {
     "name": "stdout",
     "output_type": "stream",
     "text": [
      "[('sentiment classification: I dropped my laptop on my knee, and someone stole my coffee. I am happy.', 2.1716213357735407e+44), ('sentiment classification: I dropped my laptop on my knee, and someone stole my coffee. I am sad.', 2.32515719276026e+44)]\n",
      "prediction: sentiment classification: I dropped my laptop on my knee, and someone stole my coffee. I am happy.\n"
     ]
    },
    {
     "name": "stderr",
     "output_type": "stream",
     "text": [
      "\n"
     ]
    }
   ],
   "source": [
    "import lmppl\n",
    "\n",
    "scorer = lmppl.LM('gpt2')\n",
    "text = [\n",
    "    'sentiment classification: I dropped my laptop on my knee, and someone stole my coffee. I am happy.',\n",
    "    'sentiment classification: I dropped my laptop on my knee, and someone stole my coffee. I am sad.'\n",
    "]\n",
    "ppl = scorer.get_perplexity(text)\n",
    "print(list(zip(text, ppl)))\n",
    "\n",
    "print(f\"prediction: {text[ppl.index(min(ppl))]}\")"
   ]
  }
 ],
 "metadata": {
  "kernelspec": {
   "display_name": "p10",
   "language": "python",
   "name": "python3"
  },
  "language_info": {
   "codemirror_mode": {
    "name": "ipython",
    "version": 3
   },
   "file_extension": ".py",
   "mimetype": "text/x-python",
   "name": "python",
   "nbconvert_exporter": "python",
   "pygments_lexer": "ipython3",
   "version": "3.10.9"
  },
  "orig_nbformat": 4
 },
 "nbformat": 4,
 "nbformat_minor": 2
}
